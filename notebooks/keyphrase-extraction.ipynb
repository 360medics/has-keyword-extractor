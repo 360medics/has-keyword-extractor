{
 "cells": [
  {
   "cell_type": "markdown",
   "metadata": {
    "collapsed": true,
    "pycharm": {
     "name": "#%% md\n"
    }
   },
   "source": [
    "# Keyphrase extraction using BERT\n",
    "I used almost the same technic than this [paper](https://arxiv.org/pdf/1801.04470).\n",
    "I use bert to get the pooler of the document and for each sentence.\n",
    "Then, I rank each phrase depends on this cos similarity to the document's pooler.\n",
    "\n",
    "Finally, I use the MMR score (used on the article when I cited above)\n",
    "to remove the  too similar top ranked key-phrases."
   ]
  },
  {
   "cell_type": "markdown",
   "source": [
    "# Depedencies"
   ],
   "metadata": {
    "collapsed": false,
    "pycharm": {
     "name": "#%% md\n"
    }
   }
  },
  {
   "cell_type": "code",
   "execution_count": 1,
   "outputs": [],
   "source": [
    "import json\n",
    "import spacy\n",
    "import torch\n",
    "from torch import nn\n",
    "from transformers import CamembertModel, CamembertTokenizerFast\n",
    "nlp = spacy.load('fr_core_news_sm')"
   ],
   "metadata": {
    "collapsed": false,
    "pycharm": {
     "name": "#%%\n"
    }
   }
  },
  {
   "cell_type": "markdown",
   "source": [
    "# Read the HAS document"
   ],
   "metadata": {
    "collapsed": false
   }
  },
  {
   "cell_type": "code",
   "execution_count": 3,
   "outputs": [
    {
     "data": {
      "text/plain": "('https://www.has-sante.fr/jcms/c_1623732/fr/depistage-et-prevention-du-cancer-colorectal',\n 'Dans ce Référentiel de pratiques de l’examen périodique de santé des Centres d’Examen de Santé (CES) de l’Assurance Maladie sur le dépistage et la prévention du cancer colorectal, la HAS rappelle les recommandations en ce qui concerne le programme national de dépistage organisé du cancer colorectal, les critères d’inclusion et d’exclusion des hommes et des femmes dans ce dépistage et les modalités de prévention primaire par la modification des habitudes de vie. Des données complémentaires sont apportées sur l’histoire de la maladie, l’épidémiologie, les facteurs de risque, les examens et les traitements, la stratégie diagnostique en fonction des niveaux de risque, la place du médecin de CES dans le dispositif de prévention et dépistage de ce cancer.')"
     },
     "execution_count": 3,
     "metadata": {},
     "output_type": "execute_result"
    }
   ],
   "source": [
    "has_corpus = json.load(open('./processed-HAS.json'))\n",
    "example = list(has_corpus.items())[60]\n",
    "example"
   ],
   "metadata": {
    "collapsed": false,
    "pycharm": {
     "name": "#%%\n"
    }
   }
  },
  {
   "cell_type": "markdown",
   "source": [
    "# Load the camembert model"
   ],
   "metadata": {
    "collapsed": false
   }
  },
  {
   "cell_type": "code",
   "execution_count": 4,
   "outputs": [],
   "source": [
    "model = 'camembert-base'\n",
    "tokenizer = CamembertTokenizerFast.from_pretrained(model)\n",
    "camembert = CamembertModel.from_pretrained(model)"
   ],
   "metadata": {
    "collapsed": false,
    "pycharm": {
     "name": "#%%\n"
    }
   }
  },
  {
   "cell_type": "markdown",
   "source": [
    "#  Compute the pooler for each documents"
   ],
   "metadata": {
    "collapsed": false
   }
  },
  {
   "cell_type": "code",
   "execution_count": 5,
   "outputs": [
    {
     "name": "stdout",
     "output_type": "stream",
     "text": [
      "example of a tokenized sentences (just show up a slice) : \n",
      "['<s>', '▁Dans', '▁ce', '▁Ré', 'fér', 'entiel', '▁de', '▁pratiques', '▁de', '▁l', '’', 'examen', '▁périodique', '▁de', '▁santé', '▁des', '▁Centre', 's', '▁d', '’', 'Ex', 'amen', '▁de', '▁Santé', '▁(', 'CES', ')', '▁de', '▁l', '’', 'Assurance', '▁Maladie', '▁sur', '▁le', '▁dépistage', '▁et', '▁la', '▁prévention', '▁du', '▁cancer', '▁color', 'ect', 'al', ',', '▁la', '▁H', 'AS', '▁rappelle', '▁les', '▁recommandations', '▁en', '▁ce', '▁qui', '▁concerne', '▁le', '▁programme', '▁national', '▁de', '▁dépistage', '▁organisé', '▁du', '▁cancer', '▁color', 'ect', 'al', ',', '▁les', '▁critères', '▁d', '’', 'inclusion', '▁et', '▁d', '’', 'exclusion', '▁des', '▁hommes', '▁et', '▁des', '▁femmes', '▁dans', '▁ce', '▁dépistage', '▁et', '▁les', '▁modalités', '▁de', '▁prévention', '▁primaire', '▁par', '▁la', '▁modification', '▁des', '▁habitudes', '▁de', '▁vie', '.', '▁Des', '▁données', '▁complémentaires', '▁sont', '▁apportées', '▁sur', '▁l', '’', 'histoire', '▁de', '▁la', '▁maladie', ',', '▁l', '’', 'épi', 'd', 'émi', 'ologie', ',', '▁les', '▁facteurs', '▁de', '▁risque', ',', '▁les', '▁examens', '▁et', '▁les', '▁traitements', ',', '▁la', '▁stratégie', '▁diagnostique', '▁en', '▁fonction', '▁des', '▁niveaux', '▁de', '▁risque', ',', '▁la', '▁place', '▁du', '▁médecin', '▁de', '▁CES', '▁dans', '▁le', '▁dispositif', '▁de', '▁prévention', '▁et', '▁dépistage', '▁de', '▁ce', '▁cancer', '.', '</s>']\n",
      "get the pooler of the doc : \n",
      "size of the pooler :  torch.Size([1, 768])\n"
     ]
    }
   ],
   "source": [
    "tokenized_example = tokenizer(example[1], return_attention_mask=True, return_tensors='pt')\n",
    "print('example of a tokenized sentences (just show up a slice) : ')\n",
    "print(tokenizer.convert_ids_to_tokens(tokenized_example['input_ids'].tolist()[0]))\n",
    "print('get the pooler of the doc : ')\n",
    "doc_pooler = camembert(tokenized_example['input_ids'])['pooler_output']\n",
    "print('size of the pooler : ', doc_pooler.shape)"
   ],
   "metadata": {
    "collapsed": false,
    "pycharm": {
     "name": "#%%\n"
    }
   }
  },
  {
   "cell_type": "markdown",
   "source": [
    "# Parse the key phrase or lexical windows and compute the pooler for each one\n",
    "for our purpose, I modify slightly the initial parsing of the way to parse the document.\n",
    "I am using a lexical windows of 10"
   ],
   "metadata": {
    "collapsed": false
   }
  },
  {
   "cell_type": "code",
   "execution_count": 6,
   "outputs": [
    {
     "name": "stdout",
     "output_type": "stream",
     "text": [
      "[['Dans', 'ce', 'Référentiel', 'de', 'pratiques', 'de', 'l’examen', 'périodique', 'de', 'santé'], ['pratiques', 'de', 'l’examen', 'périodique', 'de', 'santé', 'des', 'Centres', 'd’Examen', 'de'], ['de', 'santé', 'des', 'Centres', 'd’Examen', 'de', 'Santé', '(CES)', 'de', 'l’Assurance'], ['d’Examen', 'de', 'Santé', '(CES)', 'de', 'l’Assurance', 'Maladie', 'sur', 'le', 'dépistage'], ['de', 'l’Assurance', 'Maladie', 'sur', 'le', 'dépistage', 'et', 'la', 'prévention', 'du'], ['le', 'dépistage', 'et', 'la', 'prévention', 'du', 'cancer', 'colorectal,', 'la', 'HAS'], ['prévention', 'du', 'cancer', 'colorectal,', 'la', 'HAS', 'rappelle', 'les', 'recommandations', 'en'], ['la', 'HAS', 'rappelle', 'les', 'recommandations', 'en', 'ce', 'qui', 'concerne', 'le'], ['recommandations', 'en', 'ce', 'qui', 'concerne', 'le', 'programme', 'national', 'de', 'dépistage'], ['concerne', 'le', 'programme', 'national', 'de', 'dépistage', 'organisé', 'du', 'cancer', 'colorectal,'], ['de', 'dépistage', 'organisé', 'du', 'cancer', 'colorectal,', 'les', 'critères', 'd’inclusion', 'et'], ['cancer', 'colorectal,', 'les', 'critères', 'd’inclusion', 'et', 'd’exclusion', 'des', 'hommes', 'et'], ['d’inclusion', 'et', 'd’exclusion', 'des', 'hommes', 'et', 'des', 'femmes', 'dans', 'ce'], ['hommes', 'et', 'des', 'femmes', 'dans', 'ce', 'dépistage', 'et', 'les', 'modalités'], ['dans', 'ce', 'dépistage', 'et', 'les', 'modalités', 'de', 'prévention', 'primaire', 'par'], ['les', 'modalités', 'de', 'prévention', 'primaire', 'par', 'la', 'modification', 'des', 'habitudes'], ['primaire', 'par', 'la', 'modification', 'des', 'habitudes', 'de', 'vie.', 'Des', 'données'], ['des', 'habitudes', 'de', 'vie.', 'Des', 'données', 'complémentaires', 'sont', 'apportées', 'sur'], ['Des', 'données', 'complémentaires', 'sont', 'apportées', 'sur', 'l’histoire', 'de', 'la', 'maladie,'], ['apportées', 'sur', 'l’histoire', 'de', 'la', 'maladie,', 'l’épidémiologie,', 'les', 'facteurs', 'de'], ['la', 'maladie,', 'l’épidémiologie,', 'les', 'facteurs', 'de', 'risque,', 'les', 'examens', 'et'], ['facteurs', 'de', 'risque,', 'les', 'examens', 'et', 'les', 'traitements,', 'la', 'stratégie'], ['examens', 'et', 'les', 'traitements,', 'la', 'stratégie', 'diagnostique', 'en', 'fonction', 'des'], ['la', 'stratégie', 'diagnostique', 'en', 'fonction', 'des', 'niveaux', 'de', 'risque,', 'la'], ['fonction', 'des', 'niveaux', 'de', 'risque,', 'la', 'place', 'du', 'médecin', 'de'], ['risque,', 'la', 'place', 'du', 'médecin', 'de', 'CES', 'dans', 'le', 'dispositif'], ['médecin', 'de', 'CES', 'dans', 'le', 'dispositif', 'de', 'prévention', 'et', 'dépistage'], ['le', 'dispositif', 'de', 'prévention', 'et', 'dépistage', 'de', 'ce', 'cancer.'], ['et', 'dépistage', 'de', 'ce', 'cancer.']]\n"
     ]
    }
   ],
   "source": [
    "window_size = 10\n",
    "offset = 4\n",
    "slices = [example[1].split(' ')[i:i+window_size] for i in range(len(example[1].split(' '))-2)\n",
    "          if i % offset == 0]\n",
    "print(slices)\n",
    "bert_slice_matrix = torch.stack([\n",
    "    camembert(\n",
    "        tokenizer(' '.join(sl), return_attention_mask=True, return_tensors='pt')['input_ids']\n",
    "    )['pooler_output']\n",
    "    for sl in slices\n",
    "]).squeeze(1)"
   ],
   "metadata": {
    "collapsed": false,
    "pycharm": {
     "name": "#%%\n"
    }
   }
  },
  {
   "cell_type": "markdown",
   "source": [
    "# Ranked each keyphrase"
   ],
   "metadata": {
    "collapsed": false
   }
  },
  {
   "cell_type": "code",
   "execution_count": 7,
   "outputs": [
    {
     "data": {
      "text/plain": "[['hommes',\n  'et',\n  'des',\n  'femmes',\n  'dans',\n  'ce',\n  'dépistage',\n  'et',\n  'les',\n  'modalités'],\n ['médecin',\n  'de',\n  'CES',\n  'dans',\n  'le',\n  'dispositif',\n  'de',\n  'prévention',\n  'et',\n  'dépistage'],\n ['et', 'dépistage', 'de', 'ce', 'cancer.'],\n ['risque,',\n  'la',\n  'place',\n  'du',\n  'médecin',\n  'de',\n  'CES',\n  'dans',\n  'le',\n  'dispositif'],\n ['dans',\n  'ce',\n  'dépistage',\n  'et',\n  'les',\n  'modalités',\n  'de',\n  'prévention',\n  'primaire',\n  'par']]"
     },
     "execution_count": 7,
     "metadata": {},
     "output_type": "execute_result"
    }
   ],
   "source": [
    "cos_sentence_sim = nn.CosineSimilarity(dim=1, eps=1e-6)\n",
    "top_ranked_vector = torch.argsort(cos_sentence_sim(bert_slice_matrix, doc_pooler))\n",
    "top_ranked_slices = [slices[vector] for vector in top_ranked_vector]\n",
    "top_ranked_slices[:5]"
   ],
   "metadata": {
    "collapsed": false,
    "pycharm": {
     "name": "#%%\n"
    }
   }
  },
  {
   "cell_type": "markdown",
   "source": [
    "# Use MMR score to remove duplicate"
   ],
   "metadata": {
    "collapsed": false
   }
  },
  {
   "cell_type": "code",
   "execution_count": 9,
   "outputs": [
    {
     "data": {
      "text/plain": "[['hommes',\n  'et',\n  'des',\n  'femmes',\n  'dans',\n  'ce',\n  'dépistage',\n  'et',\n  'les',\n  'modalités'],\n ['et', 'dépistage', 'de', 'ce', 'cancer.'],\n ['médecin',\n  'de',\n  'CES',\n  'dans',\n  'le',\n  'dispositif',\n  'de',\n  'prévention',\n  'et',\n  'dépistage'],\n ['risque,',\n  'la',\n  'place',\n  'du',\n  'médecin',\n  'de',\n  'CES',\n  'dans',\n  'le',\n  'dispositif'],\n ['dans',\n  'ce',\n  'dépistage',\n  'et',\n  'les',\n  'modalités',\n  'de',\n  'prévention',\n  'primaire',\n  'par'],\n ['le',\n  'dispositif',\n  'de',\n  'prévention',\n  'et',\n  'dépistage',\n  'de',\n  'ce',\n  'cancer.'],\n ['la',\n  'stratégie',\n  'diagnostique',\n  'en',\n  'fonction',\n  'des',\n  'niveaux',\n  'de',\n  'risque,',\n  'la'],\n ['primaire',\n  'par',\n  'la',\n  'modification',\n  'des',\n  'habitudes',\n  'de',\n  'vie.',\n  'Des',\n  'données'],\n ['facteurs',\n  'de',\n  'risque,',\n  'les',\n  'examens',\n  'et',\n  'les',\n  'traitements,',\n  'la',\n  'stratégie'],\n ['d’inclusion',\n  'et',\n  'd’exclusion',\n  'des',\n  'hommes',\n  'et',\n  'des',\n  'femmes',\n  'dans',\n  'ce'],\n ['des',\n  'habitudes',\n  'de',\n  'vie.',\n  'Des',\n  'données',\n  'complémentaires',\n  'sont',\n  'apportées',\n  'sur'],\n ['la',\n  'HAS',\n  'rappelle',\n  'les',\n  'recommandations',\n  'en',\n  'ce',\n  'qui',\n  'concerne',\n  'le'],\n ['recommandations',\n  'en',\n  'ce',\n  'qui',\n  'concerne',\n  'le',\n  'programme',\n  'national',\n  'de',\n  'dépistage'],\n ['examens',\n  'et',\n  'les',\n  'traitements,',\n  'la',\n  'stratégie',\n  'diagnostique',\n  'en',\n  'fonction',\n  'des'],\n ['fonction',\n  'des',\n  'niveaux',\n  'de',\n  'risque,',\n  'la',\n  'place',\n  'du',\n  'médecin',\n  'de'],\n ['les',\n  'modalités',\n  'de',\n  'prévention',\n  'primaire',\n  'par',\n  'la',\n  'modification',\n  'des',\n  'habitudes'],\n ['concerne',\n  'le',\n  'programme',\n  'national',\n  'de',\n  'dépistage',\n  'organisé',\n  'du',\n  'cancer',\n  'colorectal,'],\n ['le',\n  'dépistage',\n  'et',\n  'la',\n  'prévention',\n  'du',\n  'cancer',\n  'colorectal,',\n  'la',\n  'HAS'],\n ['prévention',\n  'du',\n  'cancer',\n  'colorectal,',\n  'la',\n  'HAS',\n  'rappelle',\n  'les',\n  'recommandations',\n  'en'],\n ['de',\n  'l’Assurance',\n  'Maladie',\n  'sur',\n  'le',\n  'dépistage',\n  'et',\n  'la',\n  'prévention',\n  'du'],\n ['Dans',\n  'ce',\n  'Référentiel',\n  'de',\n  'pratiques',\n  'de',\n  'l’examen',\n  'périodique',\n  'de',\n  'santé'],\n ['pratiques',\n  'de',\n  'l’examen',\n  'périodique',\n  'de',\n  'santé',\n  'des',\n  'Centres',\n  'd’Examen',\n  'de'],\n ['Des',\n  'données',\n  'complémentaires',\n  'sont',\n  'apportées',\n  'sur',\n  'l’histoire',\n  'de',\n  'la',\n  'maladie,'],\n ['d’Examen',\n  'de',\n  'Santé',\n  '(CES)',\n  'de',\n  'l’Assurance',\n  'Maladie',\n  'sur',\n  'le',\n  'dépistage'],\n ['de',\n  'santé',\n  'des',\n  'Centres',\n  'd’Examen',\n  'de',\n  'Santé',\n  '(CES)',\n  'de',\n  'l’Assurance'],\n ['cancer',\n  'colorectal,',\n  'les',\n  'critères',\n  'd’inclusion',\n  'et',\n  'd’exclusion',\n  'des',\n  'hommes',\n  'et'],\n ['la',\n  'maladie,',\n  'l’épidémiologie,',\n  'les',\n  'facteurs',\n  'de',\n  'risque,',\n  'les',\n  'examens',\n  'et'],\n ['apportées',\n  'sur',\n  'l’histoire',\n  'de',\n  'la',\n  'maladie,',\n  'l’épidémiologie,',\n  'les',\n  'facteurs',\n  'de'],\n ['de',\n  'dépistage',\n  'organisé',\n  'du',\n  'cancer',\n  'colorectal,',\n  'les',\n  'critères',\n  'd’inclusion',\n  'et']]"
     },
     "execution_count": 9,
     "metadata": {},
     "output_type": "execute_result"
    }
   ],
   "source": [
    "bert_slice_max = torch.stack([\n",
    "                    torch.max(cos_sentence_sim(\n",
    "                                    torch.cat([bert_slice_matrix[:idx_slice],\n",
    "                                               bert_slice_matrix[idx_slice+1:]]),\n",
    "                        _slice.unsqueeze(0)))\n",
    "    for idx_slice, _slice in enumerate(bert_slice_matrix)])\n",
    "lambda_scalar = 0.7\n",
    "mmr_score = torch.argsort((lambda_scalar*cos_sentence_sim(bert_slice_matrix, doc_pooler)) -\n",
    "                          (1-lambda_scalar)*bert_slice_max)\n",
    "\n",
    "mmr_slices = [slices[score] for score in mmr_score]\n",
    "mmr_slices"
   ],
   "metadata": {
    "collapsed": false,
    "pycharm": {
     "name": "#%%\n"
    }
   }
  },
  {
   "cell_type": "markdown",
   "source": [
    "# Clean the keyphrase and try to extract the more frequent ngram"
   ],
   "metadata": {
    "collapsed": false
   }
  },
  {
   "cell_type": "code",
   "execution_count": 11,
   "outputs": [
    {
     "data": {
      "text/plain": "{'cancer',\n 'dispositif',\n 'dépistage',\n 'femme',\n 'homme',\n 'modalité',\n 'médecin',\n 'place',\n 'primaire',\n 'prévention',\n 'risqu'}"
     },
     "execution_count": 11,
     "metadata": {},
     "output_type": "execute_result"
    }
   ],
   "source": [
    "mmr_str = ' '.join([' '.join(mmr_slice) for mmr_slice in mmr_slices[:5]])\n",
    "keywords = []\n",
    "doc = nlp(mmr_str)\n",
    "for token in doc:\n",
    "    if not token.is_stop and not token.is_space and not token.is_punct:\n",
    "        keywords.append(token.lemma_)\n",
    "\n",
    "set(keywords)"
   ],
   "metadata": {
    "collapsed": false,
    "pycharm": {
     "name": "#%%\n"
    }
   }
  },
  {
   "cell_type": "markdown",
   "source": [
    "# write the result to a json and csv file"
   ],
   "metadata": {
    "collapsed": false
   }
  },
  {
   "cell_type": "code",
   "execution_count": null,
   "outputs": [],
   "source": [],
   "metadata": {
    "collapsed": false,
    "pycharm": {
     "name": "#%%\n"
    }
   }
  }
 ],
 "metadata": {
  "kernelspec": {
   "name": "pycharm-43f802de",
   "language": "python",
   "display_name": "PyCharm (HAS-extractor)"
  },
  "language_info": {
   "codemirror_mode": {
    "name": "ipython",
    "version": 2
   },
   "file_extension": ".py",
   "mimetype": "text/x-python",
   "name": "python",
   "nbconvert_exporter": "python",
   "pygments_lexer": "ipython2",
   "version": "2.7.6"
  }
 },
 "nbformat": 4,
 "nbformat_minor": 0
}